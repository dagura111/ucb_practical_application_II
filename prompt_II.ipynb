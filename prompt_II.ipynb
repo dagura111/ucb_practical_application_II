{
 "cells": [
  {
   "cell_type": "markdown",
   "metadata": {},
   "source": [
    "# What drives the price of a car?\n",
    "\n",
    "![](images/kurt.jpeg)"
   ]
  },
  {
   "cell_type": "markdown",
   "metadata": {},
   "source": [
    "**OVERVIEW**\n",
    "\n",
    "In this application, you will explore a dataset from kaggle. The original dataset contained information on 3 million used cars. The provided dataset contains information on 426K cars to ensure speed of processing.  Your goal is to understand what factors make a car more or less expensive.  As a result of your analysis, you should provide clear recommendations to your client -- a used car dealership -- as to what consumers value in a used car."
   ]
  },
  {
   "cell_type": "markdown",
   "metadata": {},
   "source": [
    "### CRISP-DM Framework\n",
    "\n",
    "<center>\n",
    "    <img src = images/crisp.png width = 50%/>\n",
    "</center>\n",
    "\n",
    "\n",
    "To frame the task, throughout our practical applications we will refer back to a standard process in industry for data projects called CRISP-DM.  This process provides a framework for working through a data problem.  Your first step in this application will be to read through a brief overview of CRISP-DM [here](https://mo-pcco.s3.us-east-1.amazonaws.com/BH-PCMLAI/module_11/readings_starter.zip).  After reading the overview, answer the questions below."
   ]
  },
  {
   "cell_type": "markdown",
   "metadata": {},
   "source": [
    "### Business Understanding\n",
    "\n",
    "From a business perspective, we are tasked with identifying key drivers for used car prices.  In the CRISP-DM overview, we are asked to convert this business framing to a data problem definition.  Using a few sentences, reframe the task as a data task with the appropriate technical vocabulary. "
   ]
  },
  {
   "cell_type": "markdown",
   "metadata": {},
   "source": [
    "#### Business Objectives:\n",
    "The dealership aims to understand the factors that affect used car prices to make data-driven decisions for their used car inventory which can sell quickly with high profitably. \n",
    "\n",
    "#### Analytics Objectives:\n",
    "1. Identify key features that significantly influence the price of used cars.  \n",
    "2. Determine the patterns and trends in the used car market.  \n",
    "3. Develop a predictive model to estimate the market value of used cars based on their attributes.\n",
    "\n",
    "#### Business Questions:\n",
    "1. What car features (make, model, year, mileage, condition, etc.) most strongly correlate with price?  \n",
    "2. Is there a significant difference in price based on the type of cars?\n",
    "3. What is the depreciation rate for different car brands or models?\n",
    "4. How do seasonal factors influence used car prices?\n",
    "4. Understand what factors make a car more or less expensive\n",
    "\n",
    "#### Goal:\n",
    "The goal is to build the prediction model about used car pricing, which involves. The model should be able to predict/estimate the price for which the car should be sold.\n",
    "\n",
    "#### Risks and Assumptions:\n",
    "There is a risk that the model developed may not generalize well to cars outside of the dataset, especially if the market conditions change or if the dataset is biased.\n"
   ]
  },
  {
   "cell_type": "code",
   "execution_count": null,
   "metadata": {},
   "outputs": [],
   "source": []
  },
  {
   "cell_type": "code",
   "execution_count": null,
   "metadata": {},
   "outputs": [],
   "source": []
  },
  {
   "cell_type": "code",
   "execution_count": null,
   "metadata": {},
   "outputs": [],
   "source": []
  },
  {
   "cell_type": "markdown",
   "metadata": {},
   "source": [
    "### Data Understanding\n",
    "\n",
    "After considering the business understanding, we want to get familiar with our data.  Write down some steps that you would take to get to know the dataset and identify any quality issues within.  Take time to get to know the dataset and explore what information it contains and how this could be used to inform your business understanding."
   ]
  },
  {
   "cell_type": "code",
   "execution_count": 1,
   "metadata": {},
   "outputs": [
    {
     "name": "stdout",
     "output_type": "stream",
     "text": [
      "<class 'pandas.core.frame.DataFrame'>\n",
      "RangeIndex: 426880 entries, 0 to 426879\n",
      "Data columns (total 18 columns):\n",
      " #   Column        Non-Null Count   Dtype  \n",
      "---  ------        --------------   -----  \n",
      " 0   id            426880 non-null  int64  \n",
      " 1   region        426880 non-null  object \n",
      " 2   price         426880 non-null  int64  \n",
      " 3   year          425675 non-null  float64\n",
      " 4   manufacturer  409234 non-null  object \n",
      " 5   model         421603 non-null  object \n",
      " 6   condition     252776 non-null  object \n",
      " 7   cylinders     249202 non-null  object \n",
      " 8   fuel          423867 non-null  object \n",
      " 9   odometer      422480 non-null  float64\n",
      " 10  title_status  418638 non-null  object \n",
      " 11  transmission  424324 non-null  object \n",
      " 12  VIN           265838 non-null  object \n",
      " 13  drive         296313 non-null  object \n",
      " 14  size          120519 non-null  object \n",
      " 15  type          334022 non-null  object \n",
      " 16  paint_color   296677 non-null  object \n",
      " 17  state         426880 non-null  object \n",
      "dtypes: float64(2), int64(2), object(14)\n",
      "memory usage: 58.6+ MB\n",
      "Unique values in \"region\": 404\n",
      "Unique values in \"manufacturer\": 42\n",
      "Unique values in \"model\": 29649\n",
      "Unique values in \"condition\": 6\n",
      "Unique values in \"cylinders\": 8\n",
      "Unique values in \"fuel\": 5\n",
      "Unique values in \"title_status\": 6\n",
      "Unique values in \"transmission\": 3\n",
      "Unique values in \"VIN\": 118246\n",
      "Unique values in \"drive\": 3\n",
      "Unique values in \"size\": 4\n",
      "Unique values in \"type\": 13\n",
      "Unique values in \"paint_color\": 12\n",
      "Unique values in \"state\": 51\n"
     ]
    }
   ],
   "source": [
    "import pandas as pd\n",
    "\n",
    "# Loading dataset and printing the unique values.\n",
    "\n",
    "vehicles_df = pd.read_csv('data/vehicles.csv')\n",
    "\n",
    "vehicles_df.head()\n",
    "\n",
    "vehicles_df.info()\n",
    "\n",
    "vehicles_df.describe()\n",
    "\n",
    "for column in vehicles_df.select_dtypes(include=['object']).columns:\n",
    "    print(f'Unique values in \"{column}\":', vehicles_df[column].nunique())"
   ]
  },
  {
   "cell_type": "code",
   "execution_count": 2,
   "metadata": {},
   "outputs": [
    {
     "data": {
      "text/html": [
       "<div>\n",
       "<style scoped>\n",
       "    .dataframe tbody tr th:only-of-type {\n",
       "        vertical-align: middle;\n",
       "    }\n",
       "\n",
       "    .dataframe tbody tr th {\n",
       "        vertical-align: top;\n",
       "    }\n",
       "\n",
       "    .dataframe thead th {\n",
       "        text-align: right;\n",
       "    }\n",
       "</style>\n",
       "<table border=\"1\" class=\"dataframe\">\n",
       "  <thead>\n",
       "    <tr style=\"text-align: right;\">\n",
       "      <th></th>\n",
       "      <th>missing_values_count</th>\n",
       "      <th>missing_values_percentage</th>\n",
       "    </tr>\n",
       "  </thead>\n",
       "  <tbody>\n",
       "    <tr>\n",
       "      <th>size</th>\n",
       "      <td>306361</td>\n",
       "      <td>71.767476</td>\n",
       "    </tr>\n",
       "    <tr>\n",
       "      <th>cylinders</th>\n",
       "      <td>177678</td>\n",
       "      <td>41.622470</td>\n",
       "    </tr>\n",
       "    <tr>\n",
       "      <th>condition</th>\n",
       "      <td>174104</td>\n",
       "      <td>40.785232</td>\n",
       "    </tr>\n",
       "    <tr>\n",
       "      <th>VIN</th>\n",
       "      <td>161042</td>\n",
       "      <td>37.725356</td>\n",
       "    </tr>\n",
       "    <tr>\n",
       "      <th>drive</th>\n",
       "      <td>130567</td>\n",
       "      <td>30.586347</td>\n",
       "    </tr>\n",
       "    <tr>\n",
       "      <th>paint_color</th>\n",
       "      <td>130203</td>\n",
       "      <td>30.501078</td>\n",
       "    </tr>\n",
       "    <tr>\n",
       "      <th>type</th>\n",
       "      <td>92858</td>\n",
       "      <td>21.752717</td>\n",
       "    </tr>\n",
       "    <tr>\n",
       "      <th>manufacturer</th>\n",
       "      <td>17646</td>\n",
       "      <td>4.133714</td>\n",
       "    </tr>\n",
       "    <tr>\n",
       "      <th>title_status</th>\n",
       "      <td>8242</td>\n",
       "      <td>1.930753</td>\n",
       "    </tr>\n",
       "    <tr>\n",
       "      <th>model</th>\n",
       "      <td>5277</td>\n",
       "      <td>1.236179</td>\n",
       "    </tr>\n",
       "    <tr>\n",
       "      <th>odometer</th>\n",
       "      <td>4400</td>\n",
       "      <td>1.030735</td>\n",
       "    </tr>\n",
       "    <tr>\n",
       "      <th>fuel</th>\n",
       "      <td>3013</td>\n",
       "      <td>0.705819</td>\n",
       "    </tr>\n",
       "    <tr>\n",
       "      <th>transmission</th>\n",
       "      <td>2556</td>\n",
       "      <td>0.598763</td>\n",
       "    </tr>\n",
       "    <tr>\n",
       "      <th>year</th>\n",
       "      <td>1205</td>\n",
       "      <td>0.282281</td>\n",
       "    </tr>\n",
       "    <tr>\n",
       "      <th>id</th>\n",
       "      <td>0</td>\n",
       "      <td>0.000000</td>\n",
       "    </tr>\n",
       "    <tr>\n",
       "      <th>region</th>\n",
       "      <td>0</td>\n",
       "      <td>0.000000</td>\n",
       "    </tr>\n",
       "    <tr>\n",
       "      <th>price</th>\n",
       "      <td>0</td>\n",
       "      <td>0.000000</td>\n",
       "    </tr>\n",
       "    <tr>\n",
       "      <th>state</th>\n",
       "      <td>0</td>\n",
       "      <td>0.000000</td>\n",
       "    </tr>\n",
       "  </tbody>\n",
       "</table>\n",
       "</div>"
      ],
      "text/plain": [
       "              missing_values_count  missing_values_percentage\n",
       "size                        306361                  71.767476\n",
       "cylinders                   177678                  41.622470\n",
       "condition                   174104                  40.785232\n",
       "VIN                         161042                  37.725356\n",
       "drive                       130567                  30.586347\n",
       "paint_color                 130203                  30.501078\n",
       "type                         92858                  21.752717\n",
       "manufacturer                 17646                   4.133714\n",
       "title_status                  8242                   1.930753\n",
       "model                         5277                   1.236179\n",
       "odometer                      4400                   1.030735\n",
       "fuel                          3013                   0.705819\n",
       "transmission                  2556                   0.598763\n",
       "year                          1205                   0.282281\n",
       "id                               0                   0.000000\n",
       "region                           0                   0.000000\n",
       "price                            0                   0.000000\n",
       "state                            0                   0.000000"
      ]
     },
     "execution_count": 2,
     "metadata": {},
     "output_type": "execute_result"
    }
   ],
   "source": [
    "# Get the count of missing values and the percentage of missing values\n",
    "missing_values_count = vehicles_df.isnull().sum()\n",
    "\n",
    "missing_values_percentage = (vehicles_df.isnull().sum() / len(vehicles_df)) * 100\n",
    "\n",
    "# Building and sorting the DataFrame\n",
    "missing_values_df = pd.DataFrame({\n",
    "    'missing_values_count': missing_values_count,\n",
    "    'missing_values_percentage': missing_values_percentage\n",
    "})\n",
    "\n",
    "missing_values_df.sort_values(by='missing_values_percentage', ascending=False)"
   ]
  },
  {
   "cell_type": "markdown",
   "metadata": {},
   "source": [
    "#### Plots for EDA\n",
    "Using log scale due to wide range of prices\n"
   ]
  },
  {
   "cell_type": "code",
   "execution_count": 3,
   "metadata": {},
   "outputs": [
    {
     "data": {
      "image/png": "[encoded data removed]",
      "text/plain": [
       "<Figure size 1600x500 with 3 Axes>"
      ]
     },
     "metadata": {},
     "output_type": "display_data"
    }
   ],
   "source": [
    "import matplotlib.pyplot as plt\n",
    "import seaborn as sns\n",
    "\n",
    "# Making 3 plots to understand the data better.\n",
    "plt.figure(figsize=(16, 5))\n",
    "plt.subplot(1, 3, 1)\n",
    "sns.histplot(vehicles_df['price'], bins=50, kde=True)\n",
    "plt.title('Price Distribution')\n",
    "plt.xlabel('Price')\n",
    "plt.ylabel('Count')\n",
    "plt.xscale('log')\n",
    "\n",
    "plt.subplot(1, 3, 2)\n",
    "sns.histplot(vehicles_df['year'].dropna(), bins=50, kde=True)\n",
    "plt.title('Year Distribution')\n",
    "plt.xlabel('Year')\n",
    "plt.ylabel('Count')\n",
    "\n",
    "plt.subplot(1, 3, 3)\n",
    "sns.scatterplot(x='odometer', y='price', data=vehicles_df)\n",
    "plt.title('Odometer vs. Price')\n",
    "plt.xlabel('Odometer')\n",
    "plt.ylabel('Price')\n",
    "plt.yscale('log')\n",
    "\n",
    "plt.tight_layout()\n",
    "plt.show()\n"
   ]
  },
  {
   "cell_type": "markdown",
   "metadata": {},
   "source": [
    "### Price Distribution: \n",
    "The histogram shows that the price variable is highly skewed with a long tail, suggesting that there are some very high-priced vehicles in the dataset. A logarithmic scale is used to better visualize the wide range of prices.  \n",
    "\n",
    "### Year Distribution: \n",
    "The distribution of the year column shows that most of the vehicles in the dataset are from recent years.  \n",
    "\n",
    "### Odometer vs. Price: \n",
    "The scatter plot between odometer readings and price shows a potential negative correlation, where vehicles with higher mileage tend to be priced lower. This is also expected as higher mileage generally correlates with more usage and potentially more wear and tear, which can lower a vehicle's value. The price axis is on a logarithmic scale to better display the wide range of values."
   ]
  },
  {
   "cell_type": "code",
   "execution_count": 4,
   "metadata": {},
   "outputs": [
    {
     "data": {
      "text/html": [
       "<div>\n",
       "<style scoped>\n",
       "    .dataframe tbody tr th:only-of-type {\n",
       "        vertical-align: middle;\n",
       "    }\n",
       "\n",
       "    .dataframe tbody tr th {\n",
       "        vertical-align: top;\n",
       "    }\n",
       "\n",
       "    .dataframe thead th {\n",
       "        text-align: right;\n",
       "    }\n",
       "</style>\n",
       "<table border=\"1\" class=\"dataframe\">\n",
       "  <thead>\n",
       "    <tr style=\"text-align: right;\">\n",
       "      <th></th>\n",
       "      <th>min_value</th>\n",
       "      <th>max_value</th>\n",
       "    </tr>\n",
       "  </thead>\n",
       "  <tbody>\n",
       "    <tr>\n",
       "      <th>id</th>\n",
       "      <td>7.207408e+09</td>\n",
       "      <td>7.317101e+09</td>\n",
       "    </tr>\n",
       "    <tr>\n",
       "      <th>price</th>\n",
       "      <td>0.000000e+00</td>\n",
       "      <td>3.736929e+09</td>\n",
       "    </tr>\n",
       "    <tr>\n",
       "      <th>year</th>\n",
       "      <td>1.900000e+03</td>\n",
       "      <td>2.022000e+03</td>\n",
       "    </tr>\n",
       "    <tr>\n",
       "      <th>odometer</th>\n",
       "      <td>0.000000e+00</td>\n",
       "      <td>1.000000e+07</td>\n",
       "    </tr>\n",
       "  </tbody>\n",
       "</table>\n",
       "</div>"
      ],
      "text/plain": [
       "             min_value     max_value\n",
       "id        7.207408e+09  7.317101e+09\n",
       "price     0.000000e+00  3.736929e+09\n",
       "year      1.900000e+03  2.022000e+03\n",
       "odometer  0.000000e+00  1.000000e+07"
      ]
     },
     "execution_count": 4,
     "metadata": {},
     "output_type": "execute_result"
    }
   ],
   "source": [
    "# Get minimum and maximum values for each numerical column\n",
    "numerical_min_max = pd.DataFrame({\n",
    "    'min_value': vehicles_df.select_dtypes(include=['int64', 'float64']).min(),\n",
    "    'max_value': vehicles_df.select_dtypes(include=['int64', 'float64']).max()\n",
    "})\n",
    "\n",
    "numerical_min_max"
   ]
  },
  {
   "cell_type": "markdown",
   "metadata": {},
   "source": [
    "##### The dataset has been successfully loaded, and we have some initial insights:\n",
    "\n",
    "1. The dataset has 426,880 records and 18 columns.  \n",
    "2. We have both numerical and categorical values in the data set.\n",
    "3. Some columns have a significant number of missing values (e.g., size, cylinders,condition, VIN, drive, paint_color, type ).  \n",
    "4. The target variable (price), has values ranging from 0 to over 3.7 billion, which suggests the presence of outliers or incorrect entries.\n",
    "5. The dataset appears to have a wide range of models and unique values in other categorical columns, which indicates high cardinality and should be addressed.  \n"
   ]
  },
  {
   "cell_type": "code",
   "execution_count": null,
   "metadata": {},
   "outputs": [],
   "source": []
  },
  {
   "cell_type": "code",
   "execution_count": null,
   "metadata": {},
   "outputs": [],
   "source": []
  },
  {
   "cell_type": "markdown",
   "metadata": {},
   "source": [
    "### Data Preparation\n",
    "\n",
    "After our initial exploration and fine tuning of the business understanding, it is time to construct our final dataset prior to modeling.  Here, we want to make sure to handle any integrity issues and cleaning, the engineering of new features, any transformations that we believe should happen (scaling, logarithms, normalization, etc.), and general preparation for modeling with `sklearn`. "
   ]
  },
  {
   "cell_type": "code",
   "execution_count": 5,
   "metadata": {},
   "outputs": [
    {
     "data": {
      "text/html": [
       "<div>\n",
       "<style scoped>\n",
       "    .dataframe tbody tr th:only-of-type {\n",
       "        vertical-align: middle;\n",
       "    }\n",
       "\n",
       "    .dataframe tbody tr th {\n",
       "        vertical-align: top;\n",
       "    }\n",
       "\n",
       "    .dataframe thead th {\n",
       "        text-align: right;\n",
       "    }\n",
       "</style>\n",
       "<table border=\"1\" class=\"dataframe\">\n",
       "  <thead>\n",
       "    <tr style=\"text-align: right;\">\n",
       "      <th></th>\n",
       "      <th>missing_values_count</th>\n",
       "      <th>missing_values_percentage</th>\n",
       "    </tr>\n",
       "  </thead>\n",
       "  <tbody>\n",
       "    <tr>\n",
       "      <th>id</th>\n",
       "      <td>0</td>\n",
       "      <td>0.000000</td>\n",
       "    </tr>\n",
       "    <tr>\n",
       "      <th>region</th>\n",
       "      <td>0</td>\n",
       "      <td>0.000000</td>\n",
       "    </tr>\n",
       "    <tr>\n",
       "      <th>price</th>\n",
       "      <td>0</td>\n",
       "      <td>0.000000</td>\n",
       "    </tr>\n",
       "    <tr>\n",
       "      <th>year</th>\n",
       "      <td>1205</td>\n",
       "      <td>0.282281</td>\n",
       "    </tr>\n",
       "    <tr>\n",
       "      <th>manufacturer</th>\n",
       "      <td>17646</td>\n",
       "      <td>4.133714</td>\n",
       "    </tr>\n",
       "    <tr>\n",
       "      <th>model</th>\n",
       "      <td>5277</td>\n",
       "      <td>1.236179</td>\n",
       "    </tr>\n",
       "    <tr>\n",
       "      <th>condition</th>\n",
       "      <td>174104</td>\n",
       "      <td>40.785232</td>\n",
       "    </tr>\n",
       "    <tr>\n",
       "      <th>cylinders</th>\n",
       "      <td>177678</td>\n",
       "      <td>41.622470</td>\n",
       "    </tr>\n",
       "    <tr>\n",
       "      <th>fuel</th>\n",
       "      <td>3013</td>\n",
       "      <td>0.705819</td>\n",
       "    </tr>\n",
       "    <tr>\n",
       "      <th>odometer</th>\n",
       "      <td>4400</td>\n",
       "      <td>1.030735</td>\n",
       "    </tr>\n",
       "    <tr>\n",
       "      <th>title_status</th>\n",
       "      <td>8242</td>\n",
       "      <td>1.930753</td>\n",
       "    </tr>\n",
       "    <tr>\n",
       "      <th>transmission</th>\n",
       "      <td>2556</td>\n",
       "      <td>0.598763</td>\n",
       "    </tr>\n",
       "    <tr>\n",
       "      <th>VIN</th>\n",
       "      <td>161042</td>\n",
       "      <td>37.725356</td>\n",
       "    </tr>\n",
       "    <tr>\n",
       "      <th>drive</th>\n",
       "      <td>130567</td>\n",
       "      <td>30.586347</td>\n",
       "    </tr>\n",
       "    <tr>\n",
       "      <th>size</th>\n",
       "      <td>306361</td>\n",
       "      <td>71.767476</td>\n",
       "    </tr>\n",
       "    <tr>\n",
       "      <th>type</th>\n",
       "      <td>92858</td>\n",
       "      <td>21.752717</td>\n",
       "    </tr>\n",
       "    <tr>\n",
       "      <th>paint_color</th>\n",
       "      <td>130203</td>\n",
       "      <td>30.501078</td>\n",
       "    </tr>\n",
       "    <tr>\n",
       "      <th>state</th>\n",
       "      <td>0</td>\n",
       "      <td>0.000000</td>\n",
       "    </tr>\n",
       "  </tbody>\n",
       "</table>\n",
       "</div>"
      ],
      "text/plain": [
       "              missing_values_count  missing_values_percentage\n",
       "id                               0                   0.000000\n",
       "region                           0                   0.000000\n",
       "price                            0                   0.000000\n",
       "year                          1205                   0.282281\n",
       "manufacturer                 17646                   4.133714\n",
       "model                         5277                   1.236179\n",
       "condition                   174104                  40.785232\n",
       "cylinders                   177678                  41.622470\n",
       "fuel                          3013                   0.705819\n",
       "odometer                      4400                   1.030735\n",
       "title_status                  8242                   1.930753\n",
       "transmission                  2556                   0.598763\n",
       "VIN                         161042                  37.725356\n",
       "drive                       130567                  30.586347\n",
       "size                        306361                  71.767476\n",
       "type                         92858                  21.752717\n",
       "paint_color                 130203                  30.501078\n",
       "state                            0                   0.000000"
      ]
     },
     "execution_count": 5,
     "metadata": {},
     "output_type": "execute_result"
    }
   ],
   "source": [
    "missing_values_df"
   ]
  },
  {
   "cell_type": "code",
   "execution_count": 6,
   "metadata": {},
   "outputs": [
    {
     "name": "stdout",
     "output_type": "stream",
     "text": [
      "<class 'pandas.core.frame.DataFrame'>\n",
      "Int64Index: 365091 entries, 0 to 426879\n",
      "Data columns (total 12 columns):\n",
      " #   Column        Non-Null Count   Dtype  \n",
      "---  ------        --------------   -----  \n",
      " 0   id            365091 non-null  int64  \n",
      " 1   region        365091 non-null  object \n",
      " 2   price         365091 non-null  int64  \n",
      " 3   year          365091 non-null  float64\n",
      " 4   manufacturer  365091 non-null  object \n",
      " 5   model         365091 non-null  object \n",
      " 6   fuel          365091 non-null  object \n",
      " 7   odometer      365091 non-null  float64\n",
      " 8   title_status  365091 non-null  object \n",
      " 9   transmission  365091 non-null  object \n",
      " 10  type          365091 non-null  object \n",
      " 11  state         365091 non-null  object \n",
      "dtypes: float64(2), int64(2), object(8)\n",
      "memory usage: 36.2+ MB\n"
     ]
    },
    {
     "data": {
      "text/plain": [
       "(365091, 12)"
      ]
     },
     "execution_count": 6,
     "metadata": {},
     "output_type": "execute_result"
    }
   ],
   "source": [
    "from sklearn.model_selection import train_test_split\n",
    "\n",
    "# Handling of missing values\n",
    "#1. If the column has more than 30% of the data as missing, the drop the column.\n",
    "#2. If the numerical column has more than <= 30% of the data as missing, then impute the missing values by median.\n",
    "#3. If the categorical column has more than <= 30% of the data as missing, then impute the missing values by mode.\n",
    "\n",
    "columns_to_drop = missing_values_df[missing_values_df['missing_values_percentage'] > 30].index\n",
    "vehicles_dropped_df = vehicles_df.drop(columns=columns_to_drop)\n",
    "\n",
    "#vehicles_dropped_df\n",
    "\n",
    "numerical_columns = vehicles_dropped_df.select_dtypes(include=['int64', 'float64']).columns\n",
    "categorical_columns = vehicles_dropped_df.select_dtypes(include=['object']).columns\n",
    "\n",
    "for column in numerical_columns:\n",
    "    if vehicles_dropped_df[column].isnull().sum() > 0:\n",
    "        vehicles_dropped_df[column].fillna(vehicles_dropped_df[column].median(), inplace=True)\n",
    "\n",
    "for column in categorical_columns:\n",
    "    if vehicles_dropped_df[column].isnull().sum() > 0:\n",
    "        vehicles_dropped_df[column].fillna(vehicles_dropped_df[column].mode()[0], inplace=True)\n",
    "\n",
    "\n",
    "# Function to remove outliers (Using the 5th and 95th percentiles)\n",
    "def remove_outliers(df, column_names, lower_quantile=0.05, upper_quantile=0.95):\n",
    "    for column_name in column_names:\n",
    "        quantile_cutoffs = df[column_name].quantile([lower_quantile, upper_quantile])\n",
    "        df = df[\n",
    "            (df[column_name] >= quantile_cutoffs.iloc[0]) &\n",
    "            (df[column_name] <= quantile_cutoffs.iloc[1])\n",
    "        ]\n",
    "    return df\n",
    "\n",
    "\n",
    "# Remove outliers from price and the odometer\n",
    "data_cleaned = remove_outliers(vehicles_dropped_df,['price', 'odometer'])\n",
    "\n",
    "data_cleaned.info()\n",
    "\n",
    "data_cleaned.shape\n",
    "\n"
   ]
  },
  {
   "cell_type": "code",
   "execution_count": 7,
   "metadata": {},
   "outputs": [
    {
     "data": {
      "text/plain": [
       "Index(['region', 'manufacturer', 'model', 'fuel', 'title_status',\n",
       "       'transmission', 'type', 'state'],\n",
       "      dtype='object')"
      ]
     },
     "execution_count": 7,
     "metadata": {},
     "output_type": "execute_result"
    }
   ],
   "source": [
    "# Label Encoding for Categorical Variables because I need to generate the linear regression model.\n",
    "categorical_columns = data_cleaned.select_dtypes(include=['object']).columns\n",
    "for column in categorical_columns:\n",
    "    data_cleaned[column] = data_cleaned[column].astype('category').cat.codes\n",
    "    \n",
    "data_cleaned.shape \n",
    "\n",
    "pd.set_option('display.max_columns', None)\n",
    "\n",
    "categorical_columns\n",
    "\n"
   ]
  },
  {
   "cell_type": "code",
   "execution_count": 8,
   "metadata": {},
   "outputs": [
    {
     "data": {
      "text/html": [
       "<div>\n",
       "<style scoped>\n",
       "    .dataframe tbody tr th:only-of-type {\n",
       "        vertical-align: middle;\n",
       "    }\n",
       "\n",
       "    .dataframe tbody tr th {\n",
       "        vertical-align: top;\n",
       "    }\n",
       "\n",
       "    .dataframe thead th {\n",
       "        text-align: right;\n",
       "    }\n",
       "</style>\n",
       "<table border=\"1\" class=\"dataframe\">\n",
       "  <thead>\n",
       "    <tr style=\"text-align: right;\">\n",
       "      <th></th>\n",
       "      <th>id</th>\n",
       "      <th>region</th>\n",
       "      <th>price</th>\n",
       "      <th>year</th>\n",
       "      <th>manufacturer</th>\n",
       "      <th>model</th>\n",
       "      <th>fuel</th>\n",
       "      <th>odometer</th>\n",
       "      <th>title_status</th>\n",
       "      <th>transmission</th>\n",
       "      <th>type</th>\n",
       "      <th>state</th>\n",
       "    </tr>\n",
       "  </thead>\n",
       "  <tbody>\n",
       "    <tr>\n",
       "      <th>0</th>\n",
       "      <td>7222695916</td>\n",
       "      <td>277</td>\n",
       "      <td>6000</td>\n",
       "      <td>2013.0</td>\n",
       "      <td>13</td>\n",
       "      <td>11729</td>\n",
       "      <td>2</td>\n",
       "      <td>85548.0</td>\n",
       "      <td>0</td>\n",
       "      <td>0</td>\n",
       "      <td>9</td>\n",
       "      <td>3</td>\n",
       "    </tr>\n",
       "    <tr>\n",
       "      <th>1</th>\n",
       "      <td>7218891961</td>\n",
       "      <td>105</td>\n",
       "      <td>11900</td>\n",
       "      <td>2013.0</td>\n",
       "      <td>13</td>\n",
       "      <td>11729</td>\n",
       "      <td>2</td>\n",
       "      <td>85548.0</td>\n",
       "      <td>0</td>\n",
       "      <td>0</td>\n",
       "      <td>9</td>\n",
       "      <td>2</td>\n",
       "    </tr>\n",
       "    <tr>\n",
       "      <th>2</th>\n",
       "      <td>7221797935</td>\n",
       "      <td>111</td>\n",
       "      <td>21000</td>\n",
       "      <td>2013.0</td>\n",
       "      <td>13</td>\n",
       "      <td>11729</td>\n",
       "      <td>2</td>\n",
       "      <td>85548.0</td>\n",
       "      <td>0</td>\n",
       "      <td>0</td>\n",
       "      <td>9</td>\n",
       "      <td>9</td>\n",
       "    </tr>\n",
       "    <tr>\n",
       "      <th>3</th>\n",
       "      <td>7222270760</td>\n",
       "      <td>396</td>\n",
       "      <td>1500</td>\n",
       "      <td>2013.0</td>\n",
       "      <td>13</td>\n",
       "      <td>11729</td>\n",
       "      <td>2</td>\n",
       "      <td>85548.0</td>\n",
       "      <td>0</td>\n",
       "      <td>0</td>\n",
       "      <td>9</td>\n",
       "      <td>19</td>\n",
       "    </tr>\n",
       "    <tr>\n",
       "      <th>4</th>\n",
       "      <td>7210384030</td>\n",
       "      <td>131</td>\n",
       "      <td>4900</td>\n",
       "      <td>2013.0</td>\n",
       "      <td>13</td>\n",
       "      <td>11729</td>\n",
       "      <td>2</td>\n",
       "      <td>85548.0</td>\n",
       "      <td>0</td>\n",
       "      <td>0</td>\n",
       "      <td>9</td>\n",
       "      <td>27</td>\n",
       "    </tr>\n",
       "  </tbody>\n",
       "</table>\n",
       "</div>"
      ],
      "text/plain": [
       "           id  region  price    year  manufacturer  model  fuel  odometer  \\\n",
       "0  7222695916     277   6000  2013.0            13  11729     2   85548.0   \n",
       "1  7218891961     105  11900  2013.0            13  11729     2   85548.0   \n",
       "2  7221797935     111  21000  2013.0            13  11729     2   85548.0   \n",
       "3  7222270760     396   1500  2013.0            13  11729     2   85548.0   \n",
       "4  7210384030     131   4900  2013.0            13  11729     2   85548.0   \n",
       "\n",
       "   title_status  transmission  type  state  \n",
       "0             0             0     9      3  \n",
       "1             0             0     9      2  \n",
       "2             0             0     9      9  \n",
       "3             0             0     9     19  \n",
       "4             0             0     9     27  "
      ]
     },
     "execution_count": 8,
     "metadata": {},
     "output_type": "execute_result"
    }
   ],
   "source": [
    "data_cleaned.head()"
   ]
  },
  {
   "cell_type": "code",
   "execution_count": 9,
   "metadata": {},
   "outputs": [],
   "source": [
    "# Feature Engineering\n",
    "# Creating a 'year_old' feature to replace 'year'\n",
    "current_year = pd.to_datetime('now', utc=True).year\n",
    "data_cleaned['year_old'] = current_year - data_cleaned['year']\n",
    "\n",
    "# Now drop the year column\n",
    "data_cleaned.drop('year', axis=1, inplace=True)\n",
    "\n",
    "\n"
   ]
  },
  {
   "cell_type": "code",
   "execution_count": null,
   "metadata": {},
   "outputs": [],
   "source": [
    "\n"
   ]
  },
  {
   "cell_type": "code",
   "execution_count": 10,
   "metadata": {},
   "outputs": [
    {
     "data": {
      "text/plain": [
       "((292072, 11), (73019, 11), (292072,), (73019,))"
      ]
     },
     "execution_count": 10,
     "metadata": {},
     "output_type": "execute_result"
    }
   ],
   "source": [
    "# Normalizing Numerical Features\n",
    "from sklearn.preprocessing import MinMaxScaler\n",
    "scaler = MinMaxScaler()\n",
    "numerical_columns = ['price', 'odometer', 'year_old']\n",
    "data_cleaned[numerical_columns] = scaler.fit_transform(data_cleaned[numerical_columns])\n",
    "\n",
    "# Data Splitting\n",
    "X = data_cleaned.drop('price', axis=1)\n",
    "y = data_cleaned['price']\n",
    "\n",
    "X_train, X_test, y_train, y_test = train_test_split(X, y, test_size=0.2, random_state=42)\n",
    "\n",
    "X_train.shape, X_test.shape, y_train.shape, y_test.shape"
   ]
  },
  {
   "cell_type": "markdown",
   "metadata": {},
   "source": [
    "### Modeling\n",
    "\n",
    "With your (almost?) final dataset in hand, it is now time to build some models.  Here, you should build a number of different regression models with the price as the target.  In building your models, you should explore different parameters and be sure to cross-validate your findings."
   ]
  },
  {
   "cell_type": "code",
   "execution_count": 11,
   "metadata": {},
   "outputs": [],
   "source": [
    "from sklearn.linear_model import LinearRegression\n",
    "from sklearn.metrics import mean_squared_error\n",
    "from sklearn.model_selection import train_test_split\n",
    "\n",
    "# Fitting a linear regression model\n",
    "lr_model = LinearRegression()\n",
    "lr_model.fit(X_train, y_train)\n",
    "\n",
    "# Making predictions\n",
    "train_predictions = lr_model.predict(X_train)\n",
    "test_predictions = lr_model.predict(X_test)\n",
    "\n",
    "# Evaluating the model\n",
    "lr_train_rmse = mean_squared_error(y_train, train_predictions, squared=False)\n",
    "lr_test_rmse = mean_squared_error(y_test, test_predictions, squared=False)\n",
    "\n",
    "\n"
   ]
  },
  {
   "cell_type": "markdown",
   "metadata": {},
   "source": []
  },
  {
   "cell_type": "code",
   "execution_count": 12,
   "metadata": {},
   "outputs": [],
   "source": [
    "from sklearn.ensemble import RandomForestRegressor\n",
    "\n",
    "# Fitting a Random Forest Regressor model\n",
    "rf_model = RandomForestRegressor(n_estimators=100, random_state=42)\n",
    "rf_model.fit(X_train, y_train)\n",
    "\n",
    "# Making predictions\n",
    "rf_train_predictions = rf_model.predict(X_train)\n",
    "rf_test_predictions = rf_model.predict(X_test)\n",
    "\n",
    "# Evaluating the model\n",
    "rf_train_rmse = mean_squared_error(y_train, rf_train_predictions, squared=False)\n",
    "rf_test_rmse = mean_squared_error(y_test, rf_test_predictions, squared=False)\n",
    "\n"
   ]
  },
  {
   "cell_type": "markdown",
   "metadata": {},
   "source": [
    "### Changing n_estimators=10\n",
    "Trying one more time with n_estimators=10"
   ]
  },
  {
   "cell_type": "code",
   "execution_count": 13,
   "metadata": {},
   "outputs": [],
   "source": [
    "from sklearn.ensemble import RandomForestRegressor\n",
    "from sklearn.metrics import mean_squared_error\n",
    "\n",
    "# Initialize the Random Forest Regressor\n",
    "rf_model = RandomForestRegressor(n_estimators=10, random_state=42)\n",
    "\n",
    "# Fit the model on the training data\n",
    "rf_model.fit(X_train, y_train)\n",
    "\n",
    "# Predict on the training set\n",
    "rf_train_predictions = rf_model.predict(X_train)\n",
    "\n",
    "# Predict on the test set\n",
    "rf_test_predictions = rf_model.predict(X_test)\n",
    "\n",
    "# Calculate RMSE for the training set\n",
    "rf_train_rmse_10 = mean_squared_error(y_train, rf_train_predictions, squared=False)\n",
    "\n",
    "# Calculate RMSE for the test set\n",
    "rf_test_rmse_10 = mean_squared_error(y_test, rf_test_predictions, squared=False)\n"
   ]
  },
  {
   "cell_type": "markdown",
   "metadata": {},
   "source": [
    "### Evaluation\n",
    "\n",
    "With some modeling accomplished, we aim to reflect on what we identify as a high quality model and what we are able to learn from this.  We should review our business objective and explore how well we can provide meaningful insight on drivers of used car prices.  Your goal now is to distill your findings and determine whether the earlier phases need revisitation and adjustment or if you have information of value to bring back to your client."
   ]
  },
  {
   "cell_type": "code",
   "execution_count": 14,
   "metadata": {},
   "outputs": [
    {
     "name": "stdout",
     "output_type": "stream",
     "text": [
      "Linear Regression Training RMSE: 0.22194148489117008\n",
      "Linear Regression Test RMSE: 0.2217080374178609\n"
     ]
    }
   ],
   "source": [
    "print(f\"Linear Regression Training RMSE: {lr_train_rmse}\")\n",
    "print(f\"Linear Regression Test RMSE: {lr_test_rmse}\")"
   ]
  },
  {
   "cell_type": "markdown",
   "metadata": {},
   "source": [
    "### Interpretation\n",
    "The training(Training RMSE: 0.22194148489117008) and test RMSE(Test RMSE: 0.2217080374178609) for linear regression model are very close and this indicates that the model is working well and not overfitting to the training data"
   ]
  },
  {
   "cell_type": "code",
   "execution_count": 15,
   "metadata": {},
   "outputs": [
    {
     "name": "stdout",
     "output_type": "stream",
     "text": [
      "Random Forest Training RMSE: 0.04619485970618412\n",
      "Random Forest Test RMSE: 0.12322428923574509\n"
     ]
    }
   ],
   "source": [
    "print(f\"Random Forest Training RMSE: {rf_train_rmse}\")\n",
    "print(f\"Random Forest Test RMSE: {rf_test_rmse}\")"
   ]
  },
  {
   "cell_type": "markdown",
   "metadata": {},
   "source": [
    "### Interpretation\n",
    "The training RMSE(Training RMSE: 0.04619485970618412) is very low, suggesting that the model has captured the patterns in the training data.  \n",
    "The test RMSE(Test RMSE: 0.12322428923574509) is higher than the training RMSE, which is expected due to the model encountering unseen data in the test set."
   ]
  },
  {
   "cell_type": "markdown",
   "metadata": {},
   "source": []
  },
  {
   "cell_type": "code",
   "execution_count": 16,
   "metadata": {},
   "outputs": [
    {
     "name": "stdout",
     "output_type": "stream",
     "text": [
      "Random Forest Training RMSE(n_estimators=10): 0.055892570339785834\n",
      "Random Forest Test RMSE(n_estimators=10): 0.13049220134395173\n"
     ]
    }
   ],
   "source": [
    "print(f'Random Forest Training RMSE(n_estimators=10): {rf_train_rmse_10}')\n",
    "print(f'Random Forest Test RMSE(n_estimators=10): {rf_test_rmse_10}')"
   ]
  },
  {
   "cell_type": "code",
   "execution_count": null,
   "metadata": {},
   "outputs": [],
   "source": []
  },
  {
   "cell_type": "markdown",
   "metadata": {},
   "source": [
    "### Deployment\n",
    "\n",
    "Now that we've settled on our models and findings, it is time to deliver the information to the client.  You should organize your work as a basic report that details your primary findings.  Keep in mind that your audience is a group of used car dealers interested in fine tuning their inventory."
   ]
  },
  {
   "cell_type": "markdown",
   "metadata": {},
   "source": [
    "### Findings\n",
    "\n",
    "Linear Regression:\n",
    "\n",
    "Training RMSE: 0.2219\n",
    "Test RMSE: 0.2217\n",
    "Easy to understand the impact of each feature on the target variable and it's a low Computation Time. Since the training and test errors are very close this model generalizes well\n",
    "\n",
    "Random Forest (n_estimators=100):\n",
    "Training RMSE: 0.0462\n",
    "Test RMSE: 0.1232\n",
    "Random Forest models are difficult to understand and kind of a black box. The computation time is high but since the model has a much lower RMSE on both training and test sets compared to linear regression the performance will be good.\n",
    "\n",
    "Random Forest (n_estimators=10):\n",
    "Training RMSE: 0.0559\n",
    "Test RMSE: 0.1305\n",
    "As said before Random Forest models are difficult to understand and this model computation time is better than 100 trees but higher than the linear regression. The performance should be better than linear regression but lower than the model with n_estimators=100.\n",
    "\n",
    "To get the best model the Random forest with 100 trees is the best performing model but if the model will be used in a real-time system where prediction speed is important, the linear regression or smaller Random Forest may be preferable. If it will be used in where prediction speed is less critical, a more complex Random Forest could be used."
   ]
  },
  {
   "cell_type": "code",
   "execution_count": null,
   "metadata": {},
   "outputs": [],
   "source": []
  },
  {
   "cell_type": "code",
   "execution_count": null,
   "metadata": {},
   "outputs": [],
   "source": []
  },
  {
   "cell_type": "code",
   "execution_count": null,
   "metadata": {},
   "outputs": [],
   "source": []
  },
  {
   "cell_type": "code",
   "execution_count": null,
   "metadata": {},
   "outputs": [],
   "source": []
  },
  {
   "cell_type": "code",
   "execution_count": null,
   "metadata": {},
   "outputs": [],
   "source": []
  },
  {
   "cell_type": "code",
   "execution_count": null,
   "metadata": {},
   "outputs": [],
   "source": []
  }
 ],
 "metadata": {
  "kernelspec": {
   "display_name": "Python 3 (ipykernel)",
   "language": "python",
   "name": "python3"
  },
  "language_info": {
   "codemirror_mode": {
    "name": "ipython",
    "version": 3
   },
   "file_extension": ".py",
   "mimetype": "text/x-python",
   "name": "python",
   "nbconvert_exporter": "python",
   "pygments_lexer": "ipython3",
   "version": "3.11.4"
  },
  "widgets": {
   "application/vnd.jupyter.widget-state+json": {
    "state": {},
    "version_major": 2,
    "version_minor": 0
   }
  }
 },
 "nbformat": 4,
 "nbformat_minor": 4
}
